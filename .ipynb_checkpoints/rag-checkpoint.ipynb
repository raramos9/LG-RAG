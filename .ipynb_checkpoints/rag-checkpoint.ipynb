{
 "cells": [
  {
   "cell_type": "code",
   "execution_count": 9,
   "id": "d856783d-69d1-4341-b68d-22ca4243f504",
   "metadata": {},
   "outputs": [
    {
     "name": "stdout",
     "output_type": "stream",
     "text": [
      "\n",
      "\u001b[1m[\u001b[0m\u001b[34;49mnotice\u001b[0m\u001b[1;39;49m]\u001b[0m\u001b[39;49m A new release of pip is available: \u001b[0m\u001b[31;49m25.1.1\u001b[0m\u001b[39;49m -> \u001b[0m\u001b[32;49m25.2\u001b[0m\n",
      "\u001b[1m[\u001b[0m\u001b[34;49mnotice\u001b[0m\u001b[1;39;49m]\u001b[0m\u001b[39;49m To update, run: \u001b[0m\u001b[32;49mpip install --upgrade pip\u001b[0m\n",
      "Note: you may need to restart the kernel to use updated packages.\n",
      "\n",
      "\u001b[1m[\u001b[0m\u001b[34;49mnotice\u001b[0m\u001b[1;39;49m]\u001b[0m\u001b[39;49m A new release of pip is available: \u001b[0m\u001b[31;49m25.1.1\u001b[0m\u001b[39;49m -> \u001b[0m\u001b[32;49m25.2\u001b[0m\n",
      "\u001b[1m[\u001b[0m\u001b[34;49mnotice\u001b[0m\u001b[1;39;49m]\u001b[0m\u001b[39;49m To update, run: \u001b[0m\u001b[32;49mpip install --upgrade pip\u001b[0m\n",
      "Note: you may need to restart the kernel to use updated packages.\n",
      "\n",
      "\u001b[1m[\u001b[0m\u001b[34;49mnotice\u001b[0m\u001b[1;39;49m]\u001b[0m\u001b[39;49m A new release of pip is available: \u001b[0m\u001b[31;49m25.1.1\u001b[0m\u001b[39;49m -> \u001b[0m\u001b[32;49m25.2\u001b[0m\n",
      "\u001b[1m[\u001b[0m\u001b[34;49mnotice\u001b[0m\u001b[1;39;49m]\u001b[0m\u001b[39;49m To update, run: \u001b[0m\u001b[32;49mpip install --upgrade pip\u001b[0m\n",
      "Note: you may need to restart the kernel to use updated packages.\n"
     ]
    }
   ],
   "source": [
    "%pip install --quiet --upgrade langchain-text-splitters langchain-community langgraph\n",
    "%pip install -qU \"langchain[openai]\"\n",
    "%pip install -qU langchain-chroma"
   ]
  },
  {
   "cell_type": "markdown",
   "id": "842a1041-3812-48b4-bebf-552355100135",
   "metadata": {},
   "source": [
    "Setup\n",
    "\n",
    "First we instantiate LangSmith for tracing, as well as OpenAI. getpass is used for a more secure api key input"
   ]
  },
  {
   "cell_type": "code",
   "execution_count": 2,
   "id": "9c760df7-aea9-4419-9e3d-f126e3dc0e66",
   "metadata": {},
   "outputs": [
    {
     "name": "stdin",
     "output_type": "stream",
     "text": [
      " ········\n"
     ]
    }
   ],
   "source": [
    "import getpass\n",
    "import os\n",
    "\n",
    "os.environ[\"LANGSMITH_TRACING\"] = \"true\"\n",
    "os.environ[\"LANGSMITH_API_KEY\"] = getpass.getpass()"
   ]
  },
  {
   "cell_type": "code",
   "execution_count": 6,
   "id": "3cf6ccb2-1479-41a9-b0da-a0f9b5884e78",
   "metadata": {},
   "outputs": [
    {
     "name": "stdin",
     "output_type": "stream",
     "text": [
      "Enter API key for OpenAI:  ········\n"
     ]
    }
   ],
   "source": [
    "if not os.environ.get(\"OPENAI_API_KEY\"):\n",
    "  os.environ[\"OPENAI_API_KEY\"] = getpass.getpass(\"Enter API key for OpenAI: \")"
   ]
  },
  {
   "cell_type": "markdown",
   "id": "de2cb3a6-d469-4f7b-a686-c11e200a1d6b",
   "metadata": {},
   "source": [
    "Here we initialize our chat model, our embeddings function, as well as our vector database "
   ]
  },
  {
   "cell_type": "code",
   "execution_count": 10,
   "id": "5c42b20b-92c4-4d57-9672-e359c0b52436",
   "metadata": {},
   "outputs": [],
   "source": [
    "from langchain.chat_models import init_chat_model\n",
    "from langchain_openai import OpenAIEmbeddings\n",
    "from langchain_chroma import Chroma \n",
    "\n",
    "llm = init_chat_model(\"gpt-5-nano\", model_provider=\"openai\")\n",
    "\n",
    "embeddings = OpenAIEmbeddings(model=\"text-embedding-3-large\")\n",
    "\n",
    "vector_store = Chroma(\n",
    "    collection_name=\"example_collection\",\n",
    "    embedding_function=embeddings,\n",
    "    persist_directory=\"./chroma_langchain_db\"\n",
    ")"
   ]
  },
  {
   "cell_type": "markdown",
   "id": "aba7e4ab-63cb-43be-8aa7-c44e5d183320",
   "metadata": {},
   "source": [
    "We are building an app that answers question about a website's content, specifically [LLM Powered Autonomous Agents](https://lilianweng.github.io/posts/2023-06-23-agent/) by Lilian Wang. We can create a simple RAG pipeline to do so:"
   ]
  },
  {
   "cell_type": "code",
   "execution_count": 15,
   "id": "84cf7738-a331-4108-bce7-de97f1c51849",
   "metadata": {},
   "outputs": [],
   "source": [
    "import bs4\n",
    "from langchain import hub \n",
    "from langchain_community.document_loaders import WebBaseLoader\n",
    "from langchain_core.documents import Document\n",
    "from langchain_text_splitters import RecursiveCharacterTextSplitter\n",
    "from langgraph.graph import START, StateGraph\n",
    "from typing_extensions import List, TypedDict\n",
    "\n",
    "# Load and chunk contents of the blog \n",
    "loader = WebBaseLoader(\n",
    "    web_paths=(\"https://lilianweng.github.io/posts/2023-06-23-agent/\",), \n",
    "    bs_kwargs=dict(\n",
    "        parse_only=bs4.SoupStrainer(\n",
    "            class_=(\"post-content\", \"post-title\", \"post-header\")\n",
    "        )\n",
    "    ),\n",
    ")\n",
    "docs = loader.load()\n",
    "text_splitter = RecursiveCharacterTextSplitter(chunk_size=1000, chunk_overlap=200)\n",
    "all_splits = text_splitter.split_documents(docs)\n",
    "\n",
    "\n",
    "# Index chunks \n",
    "_ = vector_store.add_documents(documents=all_splits)\n",
    "\n",
    "# Define prompt for question-answering\n",
    "# N.B. for non-US LangSmith endpoints, you may need to specify\n",
    "# api_url=\"https://api.smith.langchain.com\" in hub.pull.\n",
    "prompt = hub.pull('rlm/rag-prompt')\n",
    "\n",
    "# define state for application \n",
    "class State(TypedDict):\n",
    "    question: str\n",
    "    context: List[Document]\n",
    "    answer: str\n",
    "\n",
    "# define application steps\n",
    "\n",
    "def retrieve(state: State):\n",
    "    retrieved_docs = vector_store.similarity_search(state[\"question\"])\n",
    "    return {\"context\": retrieved_docs} \n",
    "\n",
    "def generate(state: State): \n",
    "    docs_content = \"\\n\\n\".join(doc.page_content for doc in state[\"context\"])\n",
    "    messages = prompt.invoke({\"question\": state[\"question\"], \"context\": docs_content})\n",
    "    response = llm.invoke(messages)\n",
    "    return {\"answer\": response.content} \n",
    "\n",
    "# compile application and test \n",
    "graph_builder = StateGraph(State).add_sequence([retrieve, generate]) \n",
    "graph_builder.add_edge(START, \"retrieve\") \n",
    "graph = graph_builder.compile()"
   ]
  },
  {
   "cell_type": "code",
   "execution_count": 17,
   "id": "832efc71-727b-430e-8447-92f7c69353b4",
   "metadata": {},
   "outputs": [
    {
     "name": "stdout",
     "output_type": "stream",
     "text": [
      "Task decomposition is the process of breaking a complex task into smaller, more manageable steps or subgoals. It can be performed by an LLM with simple prompts, by task-specific instructions, or with human input. Techniques like Chain of Thought and Tree of Thoughts operationalize this by generating stepwise or branching sub-tasks to plan and execute the overall task.\n"
     ]
    }
   ],
   "source": [
    "response = graph.invoke({\"question\": \"What is Task Decomposition\"}) \n",
    "print(response[\"answer\"])"
   ]
  },
  {
   "cell_type": "markdown",
   "id": "b9666806-2790-4b69-8010-f84e9909667e",
   "metadata": {},
   "source": [
    "Above was a simple implementation, but we can further breakdown RAG into 5 steps: \n",
    "\n",
    "Indexing\n",
    "\n",
    "1. Load: First we need to load our data. This is done with document loaders.\n",
    "2. Split: Text splitters break large documents into smaller chunks. This is useful for both indexing data and also passing it into the model, as large chunks are hard to search over and also won't fix the models context window (max amount of text a model can take).\n",
    "3. Store: We need somewhere to store and index our splits in order for them to be searched over later. This is typically done using a VectorStore and Embeddings model.\n",
    "\n",
    "Retrieval and generation\n",
    "\n",
    "4. Retrieve: Given a user input , relevant splits are retrieved from storage using a Retriever\n",
    "5. Generate: An LLM produces a prompt including both the question and the retrieved data\n",
    "\n"
   ]
  },
  {
   "cell_type": "markdown",
   "id": "709d5fb5-041b-4806-9ef3-8f945b7ef126",
   "metadata": {},
   "source": [
    "Lets start with indexing \n",
    "\n",
    "To first load the blog post contents we will use **DocumentLoaders** which are objects that load in data from a source and return a list of **Document** objects. \n",
    "\n",
    "In this case of a blog we will use **WebBaseLoader** which allows us to load HTML from web URLs and **BeautifulSoup** to parse it to text. We can customize the way we parse HTML by passing in parameters into the **BeautifulSoup** parser through (bs_kwargs) so now only HTML tags with \"post-content\", \"post-title\", \"post-header\" are relevant so remove all the others"
   ]
  },
  {
   "cell_type": "code",
   "execution_count": 18,
   "id": "e572330b-eef3-4887-8370-e8bacaff0b23",
   "metadata": {},
   "outputs": [
    {
     "name": "stdout",
     "output_type": "stream",
     "text": [
      "Total Characters: 43047\n"
     ]
    }
   ],
   "source": [
    "import bs4 \n",
    "from langchain_community.document_loaders import WebBaseLoader # document loader that loads and parses HTML\n",
    "\n",
    "# keep post content, title , and header from HTML\n",
    "bs4_strainer = bs4.SoupStrainer(class_=(\"post-title\", \"post-header\", \"post-content\"))\n",
    "loader = WebBaseLoader(\n",
    "    web_paths=(\"https://lilianweng.github.io/posts/2023-06-23-agent/\",),\n",
    "    bs_kwargs={\"parse_only\": bs4_strainer},\n",
    ")\n",
    "docs = loader.load()\n",
    "assert len(docs) == 1\n",
    "print(f\"Total Characters: {len(docs[0].page_content)}\")"
   ]
  },
  {
   "cell_type": "code",
   "execution_count": 19,
   "id": "16ab3353-32db-412a-b0ac-b39fc45f2126",
   "metadata": {},
   "outputs": [
    {
     "name": "stdout",
     "output_type": "stream",
     "text": [
      "\n",
      "\n",
      "      LLM Powered Autonomous Agents\n",
      "    \n",
      "Date: June 23, 2023  |  Estimated Reading Time: 31 min  |  Author: Lilian Weng\n",
      "\n",
      "\n",
      "Building agents with LLM (large language model) as its core controller is a cool concept. Several proof-of-concepts demos, such as AutoGPT, GPT-Engineer and BabyAGI, serve as inspiring examples. The potentiality of LLM extends beyond generating well-written copies, stories, essays and programs; it can be framed as a powerful general problem solver.\n",
      "Agent System Overview#\n",
      "In\n"
     ]
    }
   ],
   "source": [
    "print(docs[0].page_content[:500])"
   ]
  },
  {
   "cell_type": "markdown",
   "id": "cbc5eed7-cd45-4192-8a60-1681dd6a7054",
   "metadata": {},
   "source": [
    "Splitting Documents\n",
    "\n",
    "Our document is over 42k characters long and exceeds the context window, even for models that can fit these characters, they would struggle to find information within very long inputs.\n",
    "\n",
    "To handle this we split the **Document** into chunks for embedding and vector storage which helps us retrieve only the most relevant parts of the blog at a time. (embeddings is a way to turn text into numerical representations for the computer to understand) \n",
    "\n",
    "RecursiveTextSplitter will recursively split the document using common separators like new lines until each chunk is the appropriate size. This is the reccomended splitter for generic text use cases."
   ]
  },
  {
   "cell_type": "code",
   "execution_count": 21,
   "id": "c1746eb6-84f0-4432-bbb0-01af055e91d8",
   "metadata": {},
   "outputs": [
    {
     "name": "stdout",
     "output_type": "stream",
     "text": [
      "Split blog post into 63 sub-documents\n"
     ]
    }
   ],
   "source": [
    "from langchain_text_splitters import RecursiveCharacterTextSplitter\n",
    "\n",
    "text_splitter = RecursiveCharacterTextSplitter(\n",
    "    chunk_size=1000, #chunk size (characters)\n",
    "    chunk_overlap=200, #chunk overlap (characters)\n",
    "    add_start_index=True # track index in original document\n",
    ")\n",
    "all_splits = text_splitter.split_documents(docs)\n",
    "print(f\"Split blog post into {len(all_splits)} sub-documents\")"
   ]
  },
  {
   "cell_type": "markdown",
   "id": "4d2548cc-3cea-4231-89b1-57cf2447a660",
   "metadata": {},
   "source": [
    "Storing Documents\n",
    "\n",
    "We now need to index our 63 sub-docs so that we will be able to search over them during runtime. Our approach is to embed the contents of each document split and insert these embeddings into a vector store. Given an input query we can then use vector search to retrieve relevant documents. We can do this in a single commmand"
   ]
  },
  {
   "cell_type": "code",
   "execution_count": 23,
   "id": "4a22fe28-7f98-4870-8f2e-7f9f6070d956",
   "metadata": {},
   "outputs": [
    {
     "name": "stdout",
     "output_type": "stream",
     "text": [
      "['abbe4b0a-a6e9-4064-9a60-f9f414ae7842', '00fe3376-68e3-4b8e-b755-b42853db72ae', '61266583-0272-44cd-92c5-700b014a94f2']\n"
     ]
    }
   ],
   "source": [
    "document_ids = vector_store.add_documents(documents=all_splits)\n",
    "print(document_ids[:3])"
   ]
  },
  {
   "cell_type": "markdown",
   "id": "42b31650-66e3-4ff5-b4d5-8fc9233c7a97",
   "metadata": {},
   "source": [
    "Retrieval and Generation\n",
    "\n",
    "Now lets test our pipeline. We want to create a simple application that takes a user question, searches for documents relevant to that question, passes retrieved documents and initial question to the model and returns an answer."
   ]
  },
  {
   "cell_type": "code",
   "execution_count": 25,
   "id": "304c26f0-d8e8-4c9f-9f37-f50a4e5a87b7",
   "metadata": {},
   "outputs": [
    {
     "name": "stdout",
     "output_type": "stream",
     "text": [
      "You are an assistant for question-answering tasks. Use the following pieces of retrieved context to answer the question. If you don't know the answer, just say that you don't know. Use three sentences maximum and keep the answer concise.\n",
      "Question: (question goes here) \n",
      "Context: (context goes here) \n",
      "Answer:\n"
     ]
    }
   ],
   "source": [
    "from langchain import hub \n",
    "\n",
    "# N.B. for non-US LangSmith endpoints, you may need to specify\n",
    "# api_url=\"https://api.smith.langchain.com\" in hub.pull.\n",
    "# pulling prompt from api, useful because its reusable and we dont have to maintain them ourselves\n",
    "prompt = hub.pull(\"rlm/rag-prompt\")\n",
    "\n",
    "example_message = prompt.invoke(\n",
    "    {\"context\": \"(context goes here)\", \"question\": \"(question goes here)\"} \n",
    ").to_messages()\n",
    "\n",
    "assert len(example_message) == 1\n",
    "print(example_message[0].content)"
   ]
  },
  {
   "cell_type": "markdown",
   "id": "4894cbc3-0692-4258-9567-c8b46a3f96bf",
   "metadata": {},
   "source": [
    "Finally we will use LangGraph to tie together retrieval and generation into a single application. This is useful because:\n",
    "\n",
    "* We can define our application logic once and it supports multiple invocation modes\n",
    "* We get streamlined deployments through LangGraph Platform\n",
    "* LangSmith will automatically trace the steps of our application together\n",
    "* We can add key feautures like persistence and human-in-the-loop approval with minimal code changes\n",
    "\n",
    "To use it we need to define 3 things:\n",
    "\n",
    "1. The state of our application\n",
    "2. The nodes of our application ( application steps )\n",
    "3. The \"control flow\" of our application ( the ordering of steps ) "
   ]
  },
  {
   "cell_type": "markdown",
   "id": "e639653f-0e2c-42a6-b730-1b6f0883ee3e",
   "metadata": {},
   "source": [
    "State\n",
    "\n",
    "The **state** of our application controls what data is input to the application, transferred between steps, and output by the application. It is typically TypedDict, but also a Pydantic BaseModel\n",
    "\n",
    "For simple RAG we can just track the input question, retrieved context, and generated answer"
   ]
  },
  {
   "cell_type": "code",
   "execution_count": 27,
   "id": "1b38f8fd-cef1-42ea-aee8-e39e5c4e479c",
   "metadata": {},
   "outputs": [],
   "source": [
    "from langchain_core.documents import Document \n",
    "from typing_extensions import List, TypedDict\n",
    "\n",
    "class State(TypedDict): \n",
    "    question: str\n",
    "    context: List[Document]\n",
    "    answer: str"
   ]
  },
  {
   "cell_type": "markdown",
   "id": "462caeb8-fea7-4bb1-9951-f3067128ca3f",
   "metadata": {},
   "source": [
    "Nodes ( application steps )\n",
    "\n",
    "We will start with a simple sequence of retrieval and generation. \n",
    "\n",
    "Our retrieval step runs a similarity search using the input question, and the generation step formats the retrieved context and original question into a prompt for the chat model."
   ]
  },
  {
   "cell_type": "code",
   "execution_count": 29,
   "id": "a584eb26-3b09-45d2-b3c8-daf6d29bec3c",
   "metadata": {},
   "outputs": [],
   "source": [
    "def retrieve(state:State):\n",
    "    retrieved_docs = vector_store.similarity_search(state[\"question\"])\n",
    "    return {\"context\": retrieved_docs}\n",
    "\n",
    "def generate(state:State):\n",
    "    docs_content = \"\\n\\n\".join(doc.page_content for doc in state[\"context\"])\n",
    "    messages = prompt.invoke({\"question\": state[\"question\"], \"context\":docs_content})\n",
    "    response = llm.invoke(messages)\n",
    "    return {\"answer\": response.content} "
   ]
  },
  {
   "cell_type": "markdown",
   "id": "199c0ee2-cc54-45ba-9f74-5b370a753650",
   "metadata": {},
   "source": [
    "Control Flow\n",
    "\n",
    "Finally we compile our application into a single **graph** object. Here we are just connecting the retrieval and generation steps into a single sequence. "
   ]
  },
  {
   "cell_type": "code",
   "execution_count": 33,
   "id": "00cff8e9-f81e-442c-83c2-76045e58bd13",
   "metadata": {},
   "outputs": [],
   "source": [
    "from langgraph.graph import START, StateGraph\n",
    "\n",
    "graph_builder = StateGraph(State).add_sequence([retrieve, generate])\n",
    "graph_builder.add_edge(START, \"retrieve\")\n",
    "graph = graph_builder.compile()"
   ]
  },
  {
   "cell_type": "code",
   "execution_count": 34,
   "id": "7ff2b45b-e42a-40a8-8bc4-5668bd2d7ac4",
   "metadata": {},
   "outputs": [
    {
     "data": {
      "image/png": "[encoded data removed]",
      "text/plain": [
       "<IPython.core.display.Image object>"
      ]
     },
     "metadata": {},
     "output_type": "display_data"
    }
   ],
   "source": [
    "from IPython.display import Image, display\n",
    "\n",
    "display(Image(graph.get_graph().draw_mermaid_png()))"
   ]
  },
  {
   "cell_type": "code",
   "execution_count": 35,
   "id": "4ce7fd75-4c54-4bfb-9629-117ed0777e71",
   "metadata": {},
   "outputs": [
    {
     "name": "stdout",
     "output_type": "stream",
     "text": [
      "Context: [Document(id='c1ac3bc9-d5e2-4d81-8045-8c98f7be96d3', metadata={'start_index': 2578, 'source': 'https://lilianweng.github.io/posts/2023-06-23-agent/'}, page_content='Task decomposition can be done (1) by LLM with simple prompting like \"Steps for XYZ.\\\\n1.\", \"What are the subgoals for achieving XYZ?\", (2) by using task-specific instructions; e.g. \"Write a story outline.\" for writing a novel, or (3) with human inputs.\\nAnother quite distinct approach, LLM+P (Liu et al. 2023), involves relying on an external classical planner to do long-horizon planning. This approach utilizes the Planning Domain Definition Language (PDDL) as an intermediate interface to describe the planning problem. In this process, LLM (1) translates the problem into “Problem PDDL”, then (2) requests a classical planner to generate a PDDL plan based on an existing “Domain PDDL”, and finally (3) translates the PDDL plan back into natural language. Essentially, the planning step is outsourced to an external tool, assuming the availability of domain-specific PDDL and a suitable planner which is common in certain robotic setups but not in many other domains.\\nSelf-Reflection#'), Document(id='b4dad361-fb3c-45d7-afc7-6fcc65d5cf68', metadata={'start_index': 2578, 'source': 'https://lilianweng.github.io/posts/2023-06-23-agent/'}, page_content='Task decomposition can be done (1) by LLM with simple prompting like \"Steps for XYZ.\\\\n1.\", \"What are the subgoals for achieving XYZ?\", (2) by using task-specific instructions; e.g. \"Write a story outline.\" for writing a novel, or (3) with human inputs.\\nAnother quite distinct approach, LLM+P (Liu et al. 2023), involves relying on an external classical planner to do long-horizon planning. This approach utilizes the Planning Domain Definition Language (PDDL) as an intermediate interface to describe the planning problem. In this process, LLM (1) translates the problem into “Problem PDDL”, then (2) requests a classical planner to generate a PDDL plan based on an existing “Domain PDDL”, and finally (3) translates the PDDL plan back into natural language. Essentially, the planning step is outsourced to an external tool, assuming the availability of domain-specific PDDL and a suitable planner which is common in certain robotic setups but not in many other domains.\\nSelf-Reflection#'), Document(id='9c09080e-3fd0-4fac-bcee-200cc39060ef', metadata={'source': 'https://lilianweng.github.io/posts/2023-06-23-agent/'}, page_content='Task decomposition can be done (1) by LLM with simple prompting like \"Steps for XYZ.\\\\n1.\", \"What are the subgoals for achieving XYZ?\", (2) by using task-specific instructions; e.g. \"Write a story outline.\" for writing a novel, or (3) with human inputs.\\nAnother quite distinct approach, LLM+P (Liu et al. 2023), involves relying on an external classical planner to do long-horizon planning. This approach utilizes the Planning Domain Definition Language (PDDL) as an intermediate interface to describe the planning problem. In this process, LLM (1) translates the problem into “Problem PDDL”, then (2) requests a classical planner to generate a PDDL plan based on an existing “Domain PDDL”, and finally (3) translates the PDDL plan back into natural language. Essentially, the planning step is outsourced to an external tool, assuming the availability of domain-specific PDDL and a suitable planner which is common in certain robotic setups but not in many other domains.\\nSelf-Reflection#'), Document(id='43615c12-18b7-44aa-97f7-b9aaa0b1ecd5', metadata={'source': 'https://lilianweng.github.io/posts/2023-06-23-agent/'}, page_content='Component One: Planning#\\nA complicated task usually involves many steps. An agent needs to know what they are and plan ahead.\\nTask Decomposition#\\nChain of thought (CoT; Wei et al. 2022) has become a standard prompting technique for enhancing model performance on complex tasks. The model is instructed to “think step by step” to utilize more test-time computation to decompose hard tasks into smaller and simpler steps. CoT transforms big tasks into multiple manageable tasks and shed lights into an interpretation of the model’s thinking process.\\nTree of Thoughts (Yao et al. 2023) extends CoT by exploring multiple reasoning possibilities at each step. It first decomposes the problem into multiple thought steps and generates multiple thoughts per step, creating a tree structure. The search process can be BFS (breadth-first search) or DFS (depth-first search) with each state evaluated by a classifier (via a prompt) or majority vote.')]\n",
      "\n",
      "\n",
      "Answer: Task decomposition is the process of breaking a complex task into smaller, more manageable steps or subgoals. It can be done by an LLM with simple prompts, by task-specific instructions, or with human inputs. A distinct approach (LLM+P) outsources long-horizon planning to an external planner using PDDL.\n"
     ]
    }
   ],
   "source": [
    "result = graph.invoke({\"question\": \"What is Task Decomposition?\"})\n",
    "\n",
    "print(f\"Context: {result['context']}\\n\\n\")\n",
    "print(f\"Answer: {result['answer']}\")"
   ]
  },
  {
   "cell_type": "code",
   "execution_count": null,
   "id": "167ce70b-9603-449d-8295-51202565dfa5",
   "metadata": {},
   "outputs": [],
   "source": []
  }
 ],
 "metadata": {
  "kernelspec": {
   "display_name": "Python 3 (ipykernel)",
   "language": "python",
   "name": "python3"
  },
  "language_info": {
   "codemirror_mode": {
    "name": "ipython",
    "version": 3
   },
   "file_extension": ".py",
   "mimetype": "text/x-python",
   "name": "python",
   "nbconvert_exporter": "python",
   "pygments_lexer": "ipython3",
   "version": "3.11.4"
  }
 },
 "nbformat": 4,
 "nbformat_minor": 5
}
