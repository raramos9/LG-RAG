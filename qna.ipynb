{
 "cells": [
  {
   "cell_type": "code",
   "execution_count": 1,
   "id": "1b13cd5e-28ac-47c7-a04d-4aef640ebf1d",
   "metadata": {},
   "outputs": [
    {
     "name": "stdout",
     "output_type": "stream",
     "text": [
      "Note: you may need to restart the kernel to use updated packages.\n",
      "Note: you may need to restart the kernel to use updated packages.\n",
      "Note: you may need to restart the kernel to use updated packages.\n",
      "Note: you may need to restart the kernel to use updated packages.\n"
     ]
    }
   ],
   "source": [
    "%pip install -qU \"langchain[openai]\"\n",
    "%pip install -qU langchain-openai\n",
    "%pip install -qU langchain-chroma\n",
    "%pip install --upgrade --quiet langgraph langchain-community beautifulsoup4"
   ]
  },
  {
   "cell_type": "code",
   "execution_count": 1,
   "id": "b3d98f04-d915-4150-9ab4-d41145f0abac",
   "metadata": {},
   "outputs": [],
   "source": [
    "import os \n",
    "import getpass\n",
    "\n",
    "# if the api key doesnt exist get it \n",
    "if not os.environ.get(\"OPENAI_API_KEY\"):\n",
    "    os.environ[\"OPENAI_API_KEY\"] = getpass.getpass()"
   ]
  },
  {
   "cell_type": "code",
   "execution_count": 44,
   "id": "ec640f46-f5f2-4161-b392-cc12c89b8d43",
   "metadata": {},
   "outputs": [],
   "source": [
    "from langchain.chat_models import init_chat_model\n",
    "from langchain_openai import OpenAIEmbeddings\n",
    "from langchain_chroma import Chroma \n",
    "\n",
    "llm = init_chat_model(\"openai:gpt-5-nano\")\n",
    "embeddings = OpenAIEmbeddings(model=\"text-embedding-3-large\")\n",
    "vector_store = Chroma(\n",
    "    collection_name=\"qna\",\n",
    "    embedding_function=embeddings\n",
    ")\n"
   ]
  },
  {
   "cell_type": "code",
   "execution_count": 45,
   "id": "eaf28468-562f-4a33-981f-8303b9ac2952",
   "metadata": {},
   "outputs": [],
   "source": [
    "os.environ[\"LANGSMITH_TRACING\"] = \"true\"\n",
    "if not os.environ.get(\"LANGSMITH_API_KEY\"):\n",
    "    os.environ[\"LANGSMITH_API_KEY\"] = getpass.getpass()"
   ]
  },
  {
   "cell_type": "code",
   "execution_count": 55,
   "id": "bcfe1992-a93a-40d2-90b2-48807c58382c",
   "metadata": {},
   "outputs": [],
   "source": [
    "from langchain_community.document_loaders import CSVLoader\n",
    "from langchain_core.documents import Document\n",
    "from langchain_text_splitters import RecursiveCharacterTextSplitter\n",
    "from typing_extensions import List, TypedDict\n",
    "\n",
    "# Load and chunk contents of the blog\n",
    "loader = CSVLoader(\n",
    "    file_path=\"info.csv\",\n",
    ")\n",
    "docs = loader.load()\n",
    "\n",
    "text_splitter = RecursiveCharacterTextSplitter(chunk_size=1000, chunk_overlap=200)\n",
    "all_splits = text_splitter.split_documents(docs)"
   ]
  },
  {
   "cell_type": "code",
   "execution_count": 56,
   "id": "5339a8c5-9bf7-456e-90aa-3d95977f326c",
   "metadata": {},
   "outputs": [
    {
     "name": "stdout",
     "output_type": "stream",
     "text": [
      "Loaded 331 document chunks\n"
     ]
    }
   ],
   "source": [
    "_ = vector_store.add_documents(all_splits)\n",
    "print(f\"Loaded {len(all_splits)} document chunks\")\n"
   ]
  },
  {
   "cell_type": "code",
   "execution_count": 57,
   "id": "136c1a5c-f114-4061-8a12-e3cdbf7101a2",
   "metadata": {},
   "outputs": [],
   "source": [
    "from langgraph.graph import MessagesState, StateGraph\n",
    "\n",
    "graph_builder = StateGraph(MessagesState)"
   ]
  },
  {
   "cell_type": "markdown",
   "id": "8aa26db5-0519-430c-9b43-9ea8bd9fda4f",
   "metadata": {},
   "source": [
    "Conversational experiences can be tracked through messages. Retrieved documents and other artifacts can be retrieved through tool messages. Specifically we will have:\n",
    "\n",
    "1. User input as **HumanMessage**\n",
    "2. Vector store query as an **AIMessage** with tool call\n",
    "3. Retrieved documents as a **ToolMessage**\n",
    "4. Final response as a **AIMessage**\n",
    "\n",
    "Tool calling is a way for the AI to interact with not just the user, but also databases and API's. "
   ]
  },
  {
   "cell_type": "code",
   "execution_count": 58,
   "id": "8a865286-c60b-4f3e-9c3e-9a9f3e956515",
   "metadata": {},
   "outputs": [],
   "source": [
    "from langchain_core.tools import tool\n",
    "\n",
    "\n",
    "@tool(response_format=\"content_and_artifact\")\n",
    "def retrieve(query: str):\n",
    "    \"\"\"Retrieve information related to a query.\"\"\"\n",
    "    retrieved_docs = vector_store.similarity_search(query, k=2)\n",
    "    serialized = \"\\n\\n\".join(\n",
    "        (f\"Source: {doc.metadata}\\nContent: {doc.page_content}\")\n",
    "        for doc in retrieved_docs\n",
    "    )\n",
    "    return serialized, retrieved_docs"
   ]
  },
  {
   "cell_type": "markdown",
   "id": "b346f47c-1208-4f6f-a5c6-20ba4125cf6b",
   "metadata": {},
   "source": [
    "Our graph will have 3 nodes: \n",
    "\n",
    "1. A node that fields user input; either generating a query for the retriever or responding directly\n",
    "2. A node for the retrieval tool that executes the retrieval step\n",
    "3. A node that generates the final response using the retrieved context"
   ]
  },
  {
   "cell_type": "code",
   "execution_count": 59,
   "id": "2a1d896b-b31e-4402-bf16-5c9583040348",
   "metadata": {},
   "outputs": [],
   "source": [
    "from langchain_core.messages import SystemMessage\n",
    "from langgraph.prebuilt import ToolNode\n",
    "\n",
    "\n",
    "# Step 1: Generate an AIMessage that may include a tool-call to be sent.\n",
    "def query_or_respond(state: MessagesState):\n",
    "    \"\"\"Generate tool call for retrieval or respond.\"\"\"\n",
    "    llm_with_tools = llm.bind_tools([retrieve])\n",
    "    response = llm_with_tools.invoke(state[\"messages\"], config={\"temperature\": 0})\n",
    "    # MessagesState appends messages to state instead of overwriting\n",
    "    return {\"messages\": [response]}\n",
    "\n",
    "\n",
    "# Step 2: Execute the retrieval.\n",
    "tools = ToolNode([retrieve])\n",
    "\n",
    "\n",
    "# Step 3: Generate a response using the retrieved content.\n",
    "def generate(state: MessagesState):\n",
    "    \"\"\"Generate answer.\"\"\"\n",
    "    # Get generated ToolMessages\n",
    "    recent_tool_messages = []\n",
    "    for message in reversed(state[\"messages\"]):\n",
    "        if message.type == \"tool\":\n",
    "            recent_tool_messages.append(message)\n",
    "        else:\n",
    "            break\n",
    "    tool_messages = recent_tool_messages[::-1]\n",
    "\n",
    "    # Format into prompt\n",
    "    docs_content = \"\\n\\n\".join(doc.content for doc in tool_messages)\n",
    "    system_message_content = (\n",
    "        \"You are an assistant for question-answering tasks. \"\n",
    "        \"Use the following pieces of retrieved context to answer \"\n",
    "        \"the question. If you don't know the answer, say that you \"\n",
    "        \"don't know. Use three sentences maximum and keep the \"\n",
    "        \"answer concise.\"\n",
    "        \"If the user asks a question that requires knowledge of the data, \"\n",
    "        \"call the `retrieve` tool with the user's query before answering.\"\n",
    "        f\"{docs_content}\"\n",
    "    )\n",
    "    conversation_messages = [\n",
    "        message\n",
    "        for message in state[\"messages\"]\n",
    "        if message.type in (\"human\", \"system\")\n",
    "        or (message.type == \"ai\" and not message.tool_calls)\n",
    "    ]\n",
    "    prompt = [SystemMessage(system_message_content)] + conversation_messages\n",
    "\n",
    "    # Run\n",
    "    response = llm.invoke(prompt)\n",
    "    return {\"messages\": [response]}"
   ]
  },
  {
   "cell_type": "markdown",
   "id": "80ceb1c5-1306-4042-9485-13bab80ae1a9",
   "metadata": {},
   "source": [
    "Finally we create a graph object to connect the steps in the sequence. We also allow **query_or_respond** to respond directly to the user if it does not generate a tool call "
   ]
  },
  {
   "cell_type": "code",
   "execution_count": 60,
   "id": "4584cc92-a9bc-4d1e-9d6a-27285dbc6d06",
   "metadata": {},
   "outputs": [],
   "source": [
    "from langgraph.graph import END\n",
    "from langgraph.prebuilt import ToolNode, tools_condition\n",
    "\n",
    "graph_builder.add_node(\"query_or_respond\", query_or_respond)\n",
    "graph_builder.add_node(\"tools\", tools)\n",
    "graph_builder.add_node(\"generate\", generate)\n",
    "\n",
    "graph_builder.set_entry_point(\"query_or_respond\")\n",
    "graph_builder.add_conditional_edges(\n",
    "    \"query_or_respond\",\n",
    "    tools_condition,\n",
    "    {END: END, \"tools\": \"tools\"},\n",
    ")\n",
    "graph_builder.add_edge(\"tools\", \"generate\")\n",
    "graph_builder.add_edge(\"generate\", END)\n",
    "\n",
    "graph = graph_builder.compile()"
   ]
  },
  {
   "cell_type": "code",
   "execution_count": 61,
   "id": "eb546254-1754-4c4f-88cb-495ec69bccb4",
   "metadata": {},
   "outputs": [
    {
     "data": {
      "image/png": "[encoded data removed]",
      "text/plain": [
       "<IPython.core.display.Image object>"
      ]
     },
     "metadata": {},
     "output_type": "display_data"
    }
   ],
   "source": [
    "from IPython.display import Image, display\n",
    "\n",
    "display(Image(graph.get_graph().draw_mermaid_png()))"
   ]
  },
  {
   "cell_type": "code",
   "execution_count": 62,
   "id": "6e589df1-11dd-445c-95b7-91568b68138f",
   "metadata": {},
   "outputs": [
    {
     "name": "stdout",
     "output_type": "stream",
     "text": [
      "================================\u001b[1m Human Message \u001b[0m=================================\n",
      "\n",
      "Can you give me a description of the company Aica?\n",
      "==================================\u001b[1m Ai Message \u001b[0m==================================\n",
      "Tool Calls:\n",
      "  retrieve (call_WcijNHhBOHUGZY7ohV4N9Th1)\n",
      " Call ID: call_WcijNHhBOHUGZY7ohV4N9Th1\n",
      "  Args:\n",
      "    query: Aica company description\n",
      "=================================\u001b[1m Tool Message \u001b[0m=================================\n",
      "Name: retrieve\n",
      "\n",
      "Source: {'row': 1, 'source': 'info.csv'}\n",
      "Content: Company Name: Aica\n",
      "Domain Name: aica.tech\n",
      "SwitchPitch Link: https://app.switchpitch.com/startups/262377\n",
      "Hubspot Link: https://app.hubspot.com/contacts/20173538/company/33626698554\n",
      "Track: Artificial Intelligence\n",
      "Website: http://aica.tech\n",
      "Short Description: Accessible Robotics. For Everyone.\n",
      "Description: AICA aims to make robotics accessible to all companies. Our technology leverages reinforcement learning (Artificial Intelligence), closed-loop force control, and dynamic motion, giving robots a sense of touch and the ability to learn and adapt autonomously to changes. This gives manufacturers more flexibility and autonomy, allowing them to automate complex processes in an affordable way, such as gearbox assembly, EV battery (dis)assembly, automatic screwing, deburring, or polishing. In addition, on-site production employees can now operate the robots without the need for advanced robotic expertise.\n",
      "Stage: Seed\n",
      "Total Raised: 4123172\n",
      "Founded: 2019\n",
      "Revenue Range: $1M to $10M\n",
      "Employees: 11 - 50\n",
      "Min Employees: 11\n",
      "Max Employees: 50\n",
      "City: Prilly\n",
      "State/Region: Vaud\n",
      "Country: Switzerland\n",
      "Continent: Europe\n",
      "Categories: Artificial Intelligence, Industrial Automation, Machine Learning, Manufacturing, Robotics\n",
      "LinkedIn: https://www.linkedin.com/company/aica\n",
      "Twitter: \n",
      "Facebook: \n",
      "Features: - Quick Implementation\n",
      "- Robotic Agnosticity\n",
      "- Autonomous Adaptation\n",
      "- Flexible Approach\n",
      "- Bottleneck Reduction\n",
      "- Cost Savings\n",
      "Clients: \n",
      "Investors: High-Tech Grunderfonds, InnoBooster, Innovaud, Momenta Ventures, Schaeffler Group, Spicehaus Partners, Zürcher Kantonal Bank\n",
      "Last Funding Date: 03/18/2025\n",
      "Highlights: Quick Implementation\n",
      "Robotic Agnosticity\n",
      "Autonomous Adaptation\n",
      "Flexible Approach\n",
      "Bottleneck Reduction\n",
      "Cost Savings\n",
      "\n",
      "Source: {'row': 1, 'source': 'info.csv'}\n",
      "Content: Company Name: Aica\n",
      "Domain Name: aica.tech\n",
      "SwitchPitch Link: https://app.switchpitch.com/startups/262377\n",
      "Hubspot Link: https://app.hubspot.com/contacts/20173538/company/33626698554\n",
      "Track: Artificial Intelligence\n",
      "Website: http://aica.tech\n",
      "Short Description: Accessible Robotics. For Everyone.\n",
      "Description: AICA aims to make robotics accessible to all companies. Our technology leverages reinforcement learning (Artificial Intelligence), closed-loop force control, and dynamic motion, giving robots a sense of touch and the ability to learn and adapt autonomously to changes. This gives manufacturers more flexibility and autonomy, allowing them to automate complex processes in an affordable way, such as gearbox assembly, EV battery (dis)assembly, automatic screwing, deburring, or polishing. In addition, on-site production employees can now operate the robots without the need for advanced robotic expertise.\n",
      "Stage: Seed\n",
      "Total Raised: 4123172\n",
      "Founded: 2019\n",
      "Revenue Range: $1M to $10M\n",
      "Employees: 11 - 50\n",
      "Min Employees: 11\n",
      "Max Employees: 50\n",
      "City: Prilly\n",
      "State/Region: Vaud\n",
      "Country: Switzerland\n",
      "Continent: Europe\n",
      "Categories: Artificial Intelligence, Industrial Automation, Machine Learning, Manufacturing, Robotics\n",
      "LinkedIn: https://www.linkedin.com/company/aica\n",
      "Twitter: \n",
      "Facebook: \n",
      "Features: - Quick Implementation\n",
      "- Robotic Agnosticity\n",
      "- Autonomous Adaptation\n",
      "- Flexible Approach\n",
      "- Bottleneck Reduction\n",
      "- Cost Savings\n",
      "Clients: \n",
      "Investors: High-Tech Grunderfonds, InnoBooster, Innovaud, Momenta Ventures, Schaeffler Group, Spicehaus Partners, Zürcher Kantonal Bank\n",
      "Last Funding Date: 03/18/2025\n",
      "Highlights: Quick Implementation\n",
      "Robotic Agnosticity\n",
      "Autonomous Adaptation\n",
      "Flexible Approach\n",
      "Bottleneck Reduction\n",
      "Cost Savings\n",
      "==================================\u001b[1m Ai Message \u001b[0m==================================\n",
      "\n",
      "Aica is a Swiss robotics company founded in 2019 and based in Prilly, Vaud, currently at Seed stage. It aims to make robotics accessible to all companies by using reinforcement learning, closed-loop force control, and dynamic motion to give robots a sense of touch and the ability to learn and adapt autonomously. Its technology enables affordable automation of complex tasks (e.g., gearbox assembly, EV battery work, screwing, deburring, polishing) and allows on-site staff to operate robots without advanced robotics expertise.\n"
     ]
    }
   ],
   "source": [
    "input_message = \"Can you give me a description of the company Aica?\"\n",
    "\n",
    "for step in graph.stream(\n",
    "    {\"messages\": [{\"role\": \"user\", \"content\": input_message}]},\n",
    "    stream_mode=\"values\",\n",
    "):\n",
    "    step[\"messages\"][-1].pretty_print()"
   ]
  },
  {
   "cell_type": "code",
   "execution_count": 12,
   "id": "6e5bee9e-f8c5-4df5-972e-23b013ec2871",
   "metadata": {},
   "outputs": [],
   "source": [
    "from langgraph.checkpoint.memory import MemorySaver\n",
    "\n",
    "memory = MemorySaver()\n",
    "graph = graph_builder.compile(checkpointer=memory)\n",
    "\n",
    "# Specify an ID for the thread\n",
    "config = {\"configurable\": {\"thread_id\": \"abc123\"}}"
   ]
  },
  {
   "cell_type": "code",
   "execution_count": null,
   "id": "7403b99c-10da-46ad-acd7-075d83836d73",
   "metadata": {},
   "outputs": [],
   "source": []
  }
 ],
 "metadata": {
  "kernelspec": {
   "display_name": ".venv",
   "language": "python",
   "name": "python3"
  },
  "language_info": {
   "codemirror_mode": {
    "name": "ipython",
    "version": 3
   },
   "file_extension": ".py",
   "mimetype": "text/x-python",
   "name": "python",
   "nbconvert_exporter": "python",
   "pygments_lexer": "ipython3",
   "version": "3.13.3"
  }
 },
 "nbformat": 4,
 "nbformat_minor": 5
}
